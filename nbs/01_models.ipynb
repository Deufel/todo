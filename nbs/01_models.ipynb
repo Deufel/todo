{
 "cells": [
  {
   "cell_type": "markdown",
   "metadata": {},
   "source": [
    "# models\n",
    "\n",
    "> Datamodels"
   ]
  },
  {
   "cell_type": "code",
   "execution_count": null,
   "metadata": {},
   "outputs": [],
   "source": [
    "#| default_exp models"
   ]
  },
  {
   "cell_type": "code",
   "execution_count": null,
   "metadata": {},
   "outputs": [],
   "source": [
    "#| hide\n",
    "from nbdev.showdoc import *"
   ]
  },
  {
   "cell_type": "code",
   "execution_count": null,
   "metadata": {},
   "outputs": [],
   "source": [
    "#| hide\n",
    "from fasthtml.common import *\n",
    "from fastcore.test import *"
   ]
  },
  {
   "cell_type": "code",
   "execution_count": null,
   "metadata": {},
   "outputs": [],
   "source": [
    "#| export\n",
    "from dataclasses import dataclass\n",
    "from fastcore.basics import *"
   ]
  },
  {
   "cell_type": "markdown",
   "metadata": {},
   "source": [
    "## Contact Model\n",
    "\n",
    "We will defint a 'Contact' class to represent our dontact data"
   ]
  },
  {
   "cell_type": "code",
   "execution_count": null,
   "metadata": {},
   "outputs": [],
   "source": [
    "#| export\n",
    "\n",
    "@dataclass\n",
    "class Contact:\n",
    "    \"Represents a contact in our address book\"\n",
    "    id: int        # Unique identifier\n",
    "    name: str      # Full name\n",
    "    email: str     # Email address\n",
    "    phone: str     # Phone number\n",
    "    address: str   # Physical address\n",
    "    favorite: bool = False  # Whether this is a favorite contact"
   ]
  },
  {
   "cell_type": "markdown",
   "metadata": {},
   "source": [
    "Let's create a sample contact to test our model:"
   ]
  },
  {
   "cell_type": "code",
   "execution_count": null,
   "metadata": {},
   "outputs": [
    {
     "data": {
      "text/plain": [
       "Contact(id=1, name='John Doe', email='john@example.com', phone='555-1234', address='123 Main St', favorite=True)"
      ]
     },
     "execution_count": null,
     "metadata": {},
     "output_type": "execute_result"
    }
   ],
   "source": [
    "contact = Contact(1, \"John Doe\", \"john@example.com\", \"555-1234\", \"123 Main St\", True)\n",
    "contact"
   ]
  },
  {
   "cell_type": "markdown",
   "metadata": {},
   "source": [
    "We can verify the model behaves as expected:"
   ]
  },
  {
   "cell_type": "code",
   "execution_count": null,
   "metadata": {},
   "outputs": [],
   "source": [
    "test_eq(contact.name, \"John Doe\")\n",
    "test_eq(contact.email, \"john@example.com\")\n",
    "test_eq(contact.favorite, True)"
   ]
  },
  {
   "cell_type": "markdown",
   "metadata": {},
   "source": [
    "## Rich Display\n",
    " \n",
    "Let's add a rich display for our contacts to make them look better in notebooks."
   ]
  },
  {
   "cell_type": "code",
   "execution_count": null,
   "metadata": {},
   "outputs": [],
   "source": [
    "#| export\n",
    "\n",
    "@patch\n",
    "def _repr_markdown_(self:Contact):\n",
    "    \"Rich display for Contact objects in notebooks\"\n",
    "    star = \"⭐\" if self.favorite else \"\"\n",
    "    return f\"\"\"\n",
    "    ### {self.name} {star}\n",
    "    \n",
    "    - **Email:** {self.email}\n",
    "    - **Phone:** {self.phone}\n",
    "    - **Address:** {self.address}\n",
    "    - **ID:** {self.id}\n",
    "    \"\"\""
   ]
  },
  {
   "cell_type": "markdown",
   "metadata": {},
   "source": [
    "Display our contact with the rich representation"
   ]
  },
  {
   "cell_type": "code",
   "execution_count": null,
   "metadata": {},
   "outputs": [
    {
     "data": {
      "text/markdown": [
       "\n",
       "    ### John Doe ⭐\n",
       "\n",
       "    - **Email:** john@example.com\n",
       "    - **Phone:** 555-1234\n",
       "    - **Address:** 123 Main St\n",
       "    - **ID:** 1\n",
       "    "
      ],
      "text/plain": [
       "Contact(id=1, name='John Doe', email='john@example.com', phone='555-1234', address='123 Main St', favorite=True)"
      ]
     },
     "execution_count": null,
     "metadata": {},
     "output_type": "execute_result"
    }
   ],
   "source": [
    "contact"
   ]
  },
  {
   "cell_type": "code",
   "execution_count": null,
   "metadata": {},
   "outputs": [],
   "source": [
    "#| hide\n",
    "import nbdev; nbdev.nbdev_export()"
   ]
  },
  {
   "cell_type": "code",
   "execution_count": null,
   "metadata": {},
   "outputs": [],
   "source": []
  },
  {
   "cell_type": "code",
   "execution_count": null,
   "metadata": {},
   "outputs": [],
   "source": []
  },
  {
   "cell_type": "code",
   "execution_count": null,
   "metadata": {},
   "outputs": [
    {
     "data": {
      "text/plain": [
       "\u001b[31mSignature:\u001b[39m patch(f=\u001b[38;5;28;01mNone\u001b[39;00m, *, as_prop=\u001b[38;5;28;01mFalse\u001b[39;00m, cls_method=\u001b[38;5;28;01mFalse\u001b[39;00m)\n",
       "\u001b[31mDocstring:\u001b[39m Decorator: add `f` to the first parameter's class (based on f's type annotations)\n",
       "\u001b[31mFile:\u001b[39m      ~/github/todo/.venv/lib/python3.12/site-packages/fastcore/basics.py\n",
       "\u001b[31mType:\u001b[39m      function"
      ]
     },
     "metadata": {},
     "output_type": "display_data"
    }
   ],
   "source": [
    "patch?\n"
   ]
  },
  {
   "cell_type": "code",
   "execution_count": null,
   "metadata": {},
   "outputs": [],
   "source": []
  }
 ],
 "metadata": {
  "kernelspec": {
   "display_name": "python3",
   "language": "python",
   "name": "python3"
  }
 },
 "nbformat": 4,
 "nbformat_minor": 4
}

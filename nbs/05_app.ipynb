{
 "cells": [
  {
   "cell_type": "markdown",
   "metadata": {},
   "source": [
    "# app\n",
    "\n",
    "> The main FastHTML application for the contacts app"
   ]
  },
  {
   "cell_type": "code",
   "execution_count": null,
   "metadata": {},
   "outputs": [],
   "source": [
    "#| default_exp app"
   ]
  },
  {
   "cell_type": "code",
   "execution_count": null,
   "metadata": {},
   "outputs": [],
   "source": [
    "#| export\n",
    "\n",
    "from fasthtml.common import *\n",
    "from todo.core import *\n",
    "from todo.auth import *\n",
    "from todo.routes import *"
   ]
  },
  {
   "cell_type": "code",
   "execution_count": null,
   "metadata": {},
   "outputs": [],
   "source": [
    "#| export\n",
    "def create_app():\n",
    "    \"Create and configure the FastHTML application\"\n",
    "    # Create beforeware\n",
    "    bware = Beforeware(before, skip=[r'/favicon\\.ico', r'/static/.*', r'.*\\.css', '/login'])\n",
    "    \n",
    "    # Create app with configuration\n",
    "    app = FastHTML(\n",
    "        before=bware,\n",
    "        exception_handlers={404: _not_found},\n",
    "        hdrs=(\n",
    "            picolink,\n",
    "            Style(':root { --pico-font-size: 100%; }'),\n",
    "            SortableJS('.sortable'),\n",
    "            Script(markdown_js, type='module')\n",
    "        )\n",
    "    )\n",
    "    \n",
    "    # Add routes\n",
    "    rt = app.route\n",
    "    \n",
    "    # Static file handler\n",
    "    @rt(\"/{fname:path}.{ext:static}\")\n",
    "    def get(fname:str, ext:str): \n",
    "        return FileResponse(f'{fname}.{ext}')\n",
    "    \n",
    "    # Add all route groups\n",
    "    login_routes(rt)\n",
    "    todo_routes(rt)\n",
    "    \n",
    "    return app\n",
    "\n"
   ]
  },
  {
   "cell_type": "code",
   "execution_count": null,
   "metadata": {},
   "outputs": [],
   "source": []
  },
  {
   "cell_type": "code",
   "execution_count": null,
   "metadata": {},
   "outputs": [],
   "source": [
    "#| hide\n",
    "import nbdev; nbdev.nbdev_export()"
   ]
  },
  {
   "cell_type": "code",
   "execution_count": null,
   "metadata": {},
   "outputs": [],
   "source": []
  },
  {
   "cell_type": "code",
   "execution_count": null,
   "metadata": {},
   "outputs": [],
   "source": []
  }
 ],
 "metadata": {
  "kernelspec": {
   "display_name": "python3",
   "language": "python",
   "name": "python3"
  }
 },
 "nbformat": 4,
 "nbformat_minor": 4
}

{
 "cells": [
  {
   "cell_type": "markdown",
   "metadata": {},
   "source": [
    "# database\n",
    "\n",
    "> Functions for storing and retrieving contacts"
   ]
  },
  {
   "cell_type": "code",
   "execution_count": null,
   "metadata": {},
   "outputs": [],
   "source": [
    "#| default_exp database"
   ]
  },
  {
   "cell_type": "code",
   "execution_count": null,
   "metadata": {},
   "outputs": [],
   "source": [
    "#| hide\n",
    "from nbdev.showdoc import *"
   ]
  },
  {
   "cell_type": "code",
   "execution_count": null,
   "metadata": {},
   "outputs": [],
   "source": [
    "#| export\n",
    "from fasthtml.common import *\n",
    "from fastcore.test import *\n",
    "from dataclasses import dataclass\n",
    "from fastcore.basics import *\n",
    "\n",
    "from todo.models import *"
   ]
  },
  {
   "cell_type": "markdown",
   "metadata": {},
   "source": [
    "## Sample Data\n",
    " \n",
    "We'll start with some sample contacts for testing."
   ]
  },
  {
   "cell_type": "code",
   "execution_count": null,
   "metadata": {},
   "outputs": [],
   "source": [
    "#| export\n",
    "sample_contacts = [\n",
    "    Contact(1, \"John Doe\", \"john@example.com\", \"555-1234\", \"123 Main St\", True),\n",
    "    Contact(2, \"Jane Smith\", \"jane@example.com\", \"555-5678\", \"456 Oak Ave\", False),\n",
    "    Contact(3, \"Bob Johnson\", \"bob@example.com\", \"555-9012\", \"789 Pine Rd\", False),\n",
    "]"
   ]
  },
  {
   "cell_type": "markdown",
   "metadata": {},
   "source": [
    "## Database Operations\n",
    " \n",
    "For simplicity, we'll use an in-memory list as our \"database\"."
   ]
  },
  {
   "cell_type": "code",
   "execution_count": null,
   "metadata": {},
   "outputs": [],
   "source": [
    "#| export\n",
    "class ContactDB:\n",
    "    \"Simple in-memory database for contacts\"\n",
    "    def __init__(self, initial_contacts=None):\n",
    "        \"Initialize with optional contacts\"\n",
    "        self.contacts = initial_contacts.copy() if initial_contacts else []\n",
    "    \n",
    "    def get_all(self):\n",
    "        \"Get all contacts\"\n",
    "        return self.contacts\n",
    "    \n",
    "    def get(self, contact_id):\n",
    "        \"Get a contact by ID\"\n",
    "        return next((c for c in self.contacts if c.id == contact_id), None)\n",
    "    \n",
    "    def search(self, query):\n",
    "        \"Search contacts by name, email, or phone\"\n",
    "        if not query:\n",
    "            return self.contacts\n",
    "        query = query.lower()\n",
    "        return [c for c in self.contacts if query in c.name.lower() or \n",
    "                                           query in c.email.lower() or \n",
    "                                           query in c.phone.lower()]\n",
    "    \n",
    "    def add(self, contact):\n",
    "        \"Add a new contact\"\n",
    "        if not self.contacts:\n",
    "            contact.id = 1\n",
    "        else:\n",
    "            contact.id = max(c.id for c in self.contacts) + 1\n",
    "        self.contacts.append(contact)\n",
    "        return contact\n",
    "    \n",
    "    def update(self, contact):\n",
    "        \"Update an existing contact\"\n",
    "        for i, c in enumerate(self.contacts):\n",
    "            if c.id == contact.id:\n",
    "                self.contacts[i] = contact\n",
    "                return True\n",
    "        return False\n",
    "    \n",
    "    def delete(self, contact_id):\n",
    "        \"Delete a contact by ID\"\n",
    "        original_length = len(self.contacts)\n",
    "        self.contacts = [c for c in self.contacts if c.id != contact_id]\n",
    "        return len(self.contacts) < original_length"
   ]
  },
  {
   "cell_type": "markdown",
   "metadata": {},
   "source": [
    "Let's test our database operations:"
   ]
  },
  {
   "cell_type": "code",
   "execution_count": null,
   "metadata": {},
   "outputs": [],
   "source": [
    "# Initialize DB with sample data\n",
    "db = ContactDB(sample_contacts)\n",
    "\n",
    "# Test getting all contacts\n",
    "test_eq(len(db.get_all()), 3)\n",
    "\n",
    "# Test getting a single contact\n",
    "test_eq(db.get(1).name, \"John Doe\")\n",
    "\n",
    "# Test search\n",
    "test_eq(len(db.search(\"john\")), 2)\n",
    "test_eq(len(db.search(\"example.com\")), 3)\n",
    "\n",
    "# Test adding a contact\n",
    "new_contact = Contact(0, \"Alice Brown\", \"alice@example.com\", \"555-4321\", \"321 Elm St\")\n",
    "db.add(new_contact)\n",
    "test_eq(len(db.get_all()), 4)\n",
    "test_eq(new_contact.id, 4)  # ID should be assigned\n",
    "\n",
    "# Test updating a contact\n",
    "updated = Contact(1, \"John Updated\", \"john@example.com\", \"555-1234\", \"123 Main St\", True)\n",
    "test_eq(db.update(updated), True)\n",
    "test_eq(db.get(1).name, \"John Updated\")\n",
    "\n",
    "# Test deleting a contact\n",
    "test_eq(db.delete(2), True)\n",
    "test_eq(len(db.get_all()), 3)\n",
    "test_eq(db.get(2), None)"
   ]
  },
  {
   "cell_type": "markdown",
   "metadata": {},
   "source": [
    "## Default Database Instance\n",
    " \n",
    "We'll create a default database instance with our sample data."
   ]
  },
  {
   "cell_type": "code",
   "execution_count": null,
   "metadata": {},
   "outputs": [],
   "source": [
    "#| export\n",
    "\n",
    "# Create a default database instance with sample data\n",
    "default_db = ContactDB(sample_contacts)"
   ]
  },
  {
   "cell_type": "code",
   "execution_count": null,
   "metadata": {},
   "outputs": [],
   "source": [
    "#| hide\n",
    "import nbdev; nbdev.nbdev_export()"
   ]
  },
  {
   "cell_type": "code",
   "execution_count": null,
   "metadata": {},
   "outputs": [],
   "source": []
  }
 ],
 "metadata": {
  "kernelspec": {
   "display_name": "python3",
   "language": "python",
   "name": "python3"
  }
 },
 "nbformat": 4,
 "nbformat_minor": 4
}

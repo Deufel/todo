{
 "cells": [
  {
   "cell_type": "markdown",
   "metadata": {},
   "source": [
    "# components\n",
    "\n",
    "> Reusable ui components"
   ]
  },
  {
   "cell_type": "code",
   "execution_count": null,
   "metadata": {},
   "outputs": [],
   "source": [
    "#| default_exp components"
   ]
  },
  {
   "cell_type": "code",
   "execution_count": null,
   "metadata": {},
   "outputs": [],
   "source": [
    "#| hide\n",
    "from nbdev.showdoc import *"
   ]
  },
  {
   "cell_type": "code",
   "execution_count": null,
   "metadata": {},
   "outputs": [],
   "source": [
    "\n",
    "from fasthtml.common import *\n",
    "from fastcore.basics import patch\n",
    "from todo.db import Todo, todos"
   ]
  },
  {
   "cell_type": "code",
   "execution_count": null,
   "metadata": {},
   "outputs": [],
   "source": [
    "#| export\n",
    "# Todo component rendering\n",
    "@patch\n",
    "def __ft__(self:Todo):\n",
    "    \"Render a Todo item as an FT component\"\n",
    "    show = AX(self.title, f'/todos/{self.id}', 'current-todo')\n",
    "    edit = AX('edit', f'/edit/{self.id}', 'current-todo')\n",
    "    dt = '✅ ' if self.done else ''\n",
    "    cts = (dt, show, ' | ', edit, Hidden(id=\"id\", value=self.id), Hidden(id=\"priority\", value=\"0\"))\n",
    "    return Li(*cts, id=f'todo-{self.id}')"
   ]
  },
  {
   "cell_type": "code",
   "execution_count": null,
   "metadata": {},
   "outputs": [],
   "source": [
    "#| hide\n",
    "import nbdev; nbdev.nbdev_export()"
   ]
  },
  {
   "cell_type": "code",
   "execution_count": null,
   "metadata": {},
   "outputs": [],
   "source": []
  }
 ],
 "metadata": {
  "kernelspec": {
   "display_name": "python3",
   "language": "python",
   "name": "python3"
  }
 },
 "nbformat": 4,
 "nbformat_minor": 4
}

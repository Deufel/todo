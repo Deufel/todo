{
 "cells": [
  {
   "cell_type": "markdown",
   "metadata": {},
   "source": [
    "# components\n",
    "\n",
    "> Reusable ui components"
   ]
  },
  {
   "cell_type": "code",
   "execution_count": null,
   "metadata": {},
   "outputs": [],
   "source": [
    "#| default_exp components"
   ]
  },
  {
   "cell_type": "code",
   "execution_count": null,
   "metadata": {},
   "outputs": [],
   "source": [
    "#| hide\n",
    "from nbdev.showdoc import *"
   ]
  },
  {
   "cell_type": "markdown",
   "metadata": {},
   "source": [
    "\n",
    "# UI Components\n",
    "\n",
    "> Reusable UI components for the contacts application"
   ]
  },
  {
   "cell_type": "code",
   "execution_count": null,
   "metadata": {},
   "outputs": [],
   "source": [
    "#| default_exp components"
   ]
  },
  {
   "cell_type": "code",
   "execution_count": null,
   "metadata": {},
   "outputs": [],
   "source": [
    "#| hide\n",
    "from fasthtml.common import *\n",
    "from fastcore.test import *\n",
    "from todo.models import Contact\n",
    "import IPython.display as display"
   ]
  },
  {
   "cell_type": "markdown",
   "metadata": {},
   "source": [
    "## Page Layout"
   ]
  },
  {
   "cell_type": "code",
   "execution_count": null,
   "metadata": {},
   "outputs": [],
   "source": [
    "#| export\n",
    "def page_layout(content, title=\"Contacts App\"):\n",
    "    \"Create a full page layout with header, content, and footer\"\n",
    "    return Titled(title,\n",
    "        Header(\n",
    "            H1(\"Contacts App\"),\n",
    "            Nav(\n",
    "                A(\"All Contacts\", href=\"/contacts\", cls=\"nav-link\"),\n",
    "                A(\"Favorites\", href=\"/contacts/favorites\", cls=\"nav-link\"),\n",
    "                A(\"Add Contact\", href=\"/contacts/new\", cls=\"nav-link\")\n",
    "            ),\n",
    "            Style(\"\"\"\n",
    "                header { \n",
    "                    background-color: #f5f5f5;\n",
    "                    padding: 1rem;\n",
    "                    margin-bottom: 2rem;\n",
    "                }\n",
    "                nav { display: flex; gap: 1rem; }\n",
    "                .nav-link { text-decoration: none; }\n",
    "                .htmx-indicator { opacity: 0; transition: opacity 200ms ease-in; }\n",
    "                .htmx-request .htmx-indicator, .htmx-request.htmx-indicator { opacity: 1; }\n",
    "                .contact-card { \n",
    "                    border: 1px solid #ddd; \n",
    "                    padding: 1rem; \n",
    "                    margin-bottom: 1rem;\n",
    "                    border-radius: 4px;\n",
    "                }\n",
    "                .favorite { background-color: #fff8e1; }\n",
    "                .search-bar {\n",
    "                    margin-bottom: 2rem;\n",
    "                    display: flex;\n",
    "                    align-items: center;\n",
    "                }\n",
    "                .contact-form {\n",
    "                    display: grid;\n",
    "                    gap: 1rem;\n",
    "                    max-width: 500px;\n",
    "                }\n",
    "            \"\"\")\n",
    "        ),\n",
    "        Main(content),\n",
    "        Footer(\"© 2024 Contacts App\")\n",
    "    )"
   ]
  },
  {
   "cell_type": "markdown",
   "metadata": {},
   "source": [
    "## Contact Card"
   ]
  },
  {
   "cell_type": "code",
   "execution_count": null,
   "metadata": {},
   "outputs": [],
   "source": [
    "#| export\n",
    "def contact_card(contact):\n",
    "    \"Create a card displaying contact information with action buttons\"\n",
    "    return Div(\n",
    "        cls=f\"contact-card {'favorite' if contact.favorite else ''}\",\n",
    "        id=f\"contact-{contact.id}\"\n",
    "    )(\n",
    "        H3(contact.name),\n",
    "        P(f\"Email: {contact.email}\"),\n",
    "        P(f\"Phone: {contact.phone}\"),\n",
    "        P(f\"Address: {contact.address}\"),\n",
    "        Div(\n",
    "            Button(\"View\", \n",
    "                hx_get=f\"/contacts/{contact.id}\",\n",
    "                hx_target=\"#main-content\",\n",
    "                hx_push_url=\"true\"),\n",
    "            Button(\"Edit\", \n",
    "                hx_get=f\"/contacts/{contact.id}/edit\",\n",
    "                hx_target=\"#main-content\",\n",
    "                hx_push_url=\"true\"),\n",
    "            Button(\"Delete\", \n",
    "                hx_delete=f\"/contacts/{contact.id}\",\n",
    "                hx_confirm=\"Are you sure you want to delete this contact?\",\n",
    "                hx_target=f\"#contact-{contact.id}\",\n",
    "                hx_swap=\"outerHTML\")\n",
    "        )\n",
    "    )"
   ]
  },
  {
   "cell_type": "markdown",
   "metadata": {},
   "source": [
    "Let's visualize a contact card with a sample contact:"
   ]
  },
  {
   "cell_type": "code",
   "execution_count": null,
   "metadata": {},
   "outputs": [
    {
     "data": {
      "text/html": [
       "contact-1"
      ],
      "text/plain": [
       "<IPython.core.display.HTML object>"
      ]
     },
     "execution_count": null,
     "metadata": {},
     "output_type": "execute_result"
    }
   ],
   "source": [
    "sample_contact = Contact(1, \"John Doe\", \"john@example.com\", \"555-1234\", \"123 Main St\", True)\n",
    "card_html = str(contact_card(sample_contact))\n",
    "display.HTML(card_html)"
   ]
  },
  {
   "cell_type": "markdown",
   "metadata": {},
   "source": [
    "## Contact List"
   ]
  },
  {
   "cell_type": "code",
   "execution_count": null,
   "metadata": {},
   "outputs": [],
   "source": [
    "#| export\n",
    "def contact_list(contacts, search_query=\"\"):\n",
    "    \"Create a list of contacts with search functionality\"\n",
    "    return Div(id=\"main-content\")(\n",
    "        Div(cls=\"search-bar\")(\n",
    "            Input(\n",
    "                type=\"search\", \n",
    "                name=\"q\", \n",
    "                placeholder=\"Search contacts...\",\n",
    "                value=search_query,\n",
    "                hx_get=\"/contacts\",\n",
    "                hx_trigger=\"keyup delay:300ms changed\",\n",
    "                hx_target=\"#contacts-list\",\n",
    "                hx_push_url=\"true\",\n",
    "                hx_indicator=\"#search-indicator\"\n",
    "            ),\n",
    "            Img(\n",
    "                id=\"search-indicator\",\n",
    "                cls=\"htmx-indicator\",\n",
    "                src=\"/static/img/spinner.svg\",\n",
    "                width=\"20\",\n",
    "                height=\"20\"\n",
    "            )\n",
    "        ),\n",
    "        Div(id=\"contacts-list\")(\n",
    "            *[contact_card(contact) for contact in contacts]\n",
    "        ) if contacts else P(\"No contacts found.\")\n",
    "    )"
   ]
  },
  {
   "cell_type": "markdown",
   "metadata": {},
   "source": [
    "## Contact Form"
   ]
  },
  {
   "cell_type": "code",
   "execution_count": null,
   "metadata": {},
   "outputs": [],
   "source": [
    "#| export\n",
    "def contact_form(contact=None, action=\"/contacts\", method=\"post\"):\n",
    "    \"Create a form for adding or editing contacts\"\n",
    "    return Div(id=\"main-content\")(\n",
    "        H2(\"Add Contact\" if not contact else \"Edit Contact\"),\n",
    "        Form(\n",
    "            cls=\"contact-form\",\n",
    "            hx_post=action if not contact else f\"/contacts/{contact.id}\",\n",
    "            hx_target=\"#main-content\",\n",
    "            hx_push_url=\"true\"\n",
    "        )(\n",
    "            Label(\"Name\", Input(name=\"name\", value=contact.name if contact else \"\")),\n",
    "            Label(\"Email\", Input(name=\"email\", type=\"email\", value=contact.email if contact else \"\")),\n",
    "            Label(\"Phone\", Input(name=\"phone\", value=contact.phone if contact else \"\")),\n",
    "            Label(\"Address\", Input(name=\"address\", value=contact.address if contact else \"\")),\n",
    "            Label(\n",
    "                Span(\"Favorite\"),\n",
    "                Input(\n",
    "                    name=\"favorite\", \n",
    "                    type=\"checkbox\", \n",
    "                    checked=contact and contact.favorite\n",
    "                )\n",
    "            ),\n",
    "            Button(\"Save\", type=\"submit\"),\n",
    "            Button(\n",
    "                \"Cancel\", \n",
    "                type=\"button\", \n",
    "                hx_get=\"/contacts\",\n",
    "                hx_target=\"#main-content\",\n",
    "                hx_push_url=\"true\"\n",
    "            )\n",
    "        )\n",
    "    )"
   ]
  },
  {
   "cell_type": "markdown",
   "metadata": {},
   "source": [
    "## Contact Detail"
   ]
  },
  {
   "cell_type": "code",
   "execution_count": null,
   "metadata": {},
   "outputs": [],
   "source": [
    "#| export\n",
    "def contact_detail(contact):\n",
    "    \"Create a detailed view of a contact\"\n",
    "    return Div(id=\"main-content\")(\n",
    "        H2(contact.name),\n",
    "        P(f\"Email: {contact.email}\"),\n",
    "        P(f\"Phone: {contact.phone}\"),\n",
    "        P(f\"Address: {contact.address}\"),\n",
    "        P(f\"Favorite: {'Yes' if contact.favorite else 'No'}\"),\n",
    "        Div(\n",
    "            Button(\n",
    "                \"Edit\", \n",
    "                hx_get=f\"/contacts/{contact.id}/edit\",\n",
    "                hx_target=\"#main-content\",\n",
    "                hx_push_url=\"true\"\n",
    "            ),\n",
    "            Button(\n",
    "                \"Back to List\", \n",
    "                hx_get=\"/contacts\",\n",
    "                hx_target=\"#main-content\",\n",
    "                hx_push_url=\"true\"\n",
    "            )\n",
    "        )\n",
    "    )"
   ]
  },
  {
   "cell_type": "code",
   "execution_count": null,
   "metadata": {},
   "outputs": [],
   "source": [
    "#| hide\n",
    "import nbdev; nbdev.nbdev_export()"
   ]
  },
  {
   "cell_type": "code",
   "execution_count": null,
   "metadata": {},
   "outputs": [],
   "source": []
  },
  {
   "cell_type": "code",
   "execution_count": null,
   "metadata": {},
   "outputs": [],
   "source": []
  }
 ],
 "metadata": {
  "kernelspec": {
   "display_name": "python3",
   "language": "python",
   "name": "python3"
  }
 },
 "nbformat": 4,
 "nbformat_minor": 4
}

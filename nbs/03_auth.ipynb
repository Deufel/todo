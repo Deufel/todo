{
 "cells": [
  {
   "cell_type": "markdown",
   "metadata": {},
   "source": [
    "# auth\n",
    "\n",
    "> User Authentication"
   ]
  },
  {
   "cell_type": "code",
   "execution_count": null,
   "metadata": {},
   "outputs": [],
   "source": [
    "#| default_exp auth\n"
   ]
  },
  {
   "cell_type": "code",
   "execution_count": null,
   "metadata": {},
   "outputs": [],
   "source": [
    "#| hide\n",
    "from nbdev.showdoc import *"
   ]
  },
  {
   "cell_type": "code",
   "execution_count": null,
   "metadata": {},
   "outputs": [],
   "source": [
    "#| export\n",
    "from fasthtml.common import *\n",
    "from todo.db import Login, users, db\n",
    "from hmac import compare_digest"
   ]
  },
  {
   "cell_type": "code",
   "execution_count": null,
   "metadata": {},
   "outputs": [],
   "source": [
    "#| export\n",
    "# Auth redirect\n",
    "login_redir = RedirectResponse('/login', status_code=303)"
   ]
  },
  {
   "cell_type": "code",
   "execution_count": null,
   "metadata": {},
   "outputs": [],
   "source": [
    "#| export\n",
    "# Beforeware for authentication\n",
    "def before(req, sess):\n",
    "    \"Authentication beforeware that runs before route handlers\"\n",
    "    auth = req.scope['auth'] = sess.get('auth', None)\n",
    "    if not auth: return login_redir\n",
    "    # Set filter to only show todos for current user\n",
    "    from .db import todos\n",
    "    todos.xtra(name=auth)"
   ]
  },
  {
   "cell_type": "code",
   "execution_count": null,
   "metadata": {},
   "outputs": [],
   "source": [
    "#| export\n",
    "# Login routes\n",
    "def login_routes(rt):\n",
    "    \"Define login and logout routes\"\n",
    "    \n",
    "    @rt(\"/login\")\n",
    "    def get():\n",
    "        frm = Form(\n",
    "            Input(id='name', placeholder='Name'),\n",
    "            Input(id='pwd', type='password', placeholder='Password'),\n",
    "            Button('login'),\n",
    "            action='/login', method='post')\n",
    "        return Titled(\"Login\", frm)\n",
    "    \n",
    "    @rt(\"/login\")\n",
    "    def post(login:Login, sess):\n",
    "        if not login.name or not login.pwd: return login_redir\n",
    "        try: \n",
    "            u = users[login.name]\n",
    "        except NotFoundError: \n",
    "            u = users.insert(login)\n",
    "        if not compare_digest(u.pwd.encode(\"utf-8\"), login.pwd.encode(\"utf-8\")): \n",
    "            return login_redir\n",
    "        sess['auth'] = u.name\n",
    "        return RedirectResponse('/', status_code=303)\n",
    "    \n",
    "    @rt(\"/logout\")\n",
    "    def get(sess):\n",
    "        del sess['auth']\n",
    "        return login_redir"
   ]
  },
  {
   "cell_type": "code",
   "execution_count": null,
   "metadata": {},
   "outputs": [],
   "source": [
    "#| hide\n",
    "import nbdev; nbdev.nbdev_export()"
   ]
  },
  {
   "cell_type": "code",
   "execution_count": null,
   "metadata": {},
   "outputs": [],
   "source": []
  }
 ],
 "metadata": {
  "kernelspec": {
   "display_name": "python3",
   "language": "python",
   "name": "python3"
  }
 },
 "nbformat": 4,
 "nbformat_minor": 4
}

{
 "cells": [
  {
   "cell_type": "markdown",
   "metadata": {},
   "source": [
    "# routes\n",
    "\n",
    ">  Route handlers for the contacts application"
   ]
  },
  {
   "cell_type": "code",
   "execution_count": null,
   "metadata": {},
   "outputs": [],
   "source": [
    "#| default_exp routes"
   ]
  },
  {
   "cell_type": "code",
   "execution_count": null,
   "metadata": {},
   "outputs": [],
   "source": [
    "#| hide\n",
    "from nbdev.showdoc import *"
   ]
  },
  {
   "cell_type": "code",
   "execution_count": null,
   "metadata": {},
   "outputs": [],
   "source": [
    "#| export\n",
    "from fasthtml.common import *\n",
    "from todo.db import *\n",
    "from todo.core import *"
   ]
  },
  {
   "cell_type": "markdown",
   "metadata": {},
   "source": [
    "## Helper Functions"
   ]
  },
  {
   "cell_type": "code",
   "execution_count": null,
   "metadata": {},
   "outputs": [],
   "source": [
    "#| export\n",
    "\n",
    "def todo_routes(rt):\n",
    "    \"Define todo management routes\"\n",
    "    \n",
    "    @rt(\"/\")\n",
    "    def get(auth):\n",
    "        title = f\"{auth}'s Todo list\"\n",
    "        top = Grid(H1(title), Div(A('logout', href='/logout'), style='text-align: right'))\n",
    "        new_inp = Input(id=\"new-title\", name=\"title\", placeholder=\"New Todo\")\n",
    "        add = Form(Group(new_inp, Button(\"Add\")),\n",
    "                  hx_post=\"/\", target_id='todo-list', hx_swap=\"afterbegin\")\n",
    "        frm = Form(*todos(order_by='priority'),\n",
    "                  id='todo-list', cls='sortable', hx_post=\"/reorder\", hx_trigger=\"end\")\n",
    "        card = Card(Ul(frm), header=add, footer=Div(id='current-todo'))\n",
    "        return Title(title), Container(top, card)\n",
    "    \n",
    "    @rt(\"/reorder\")\n",
    "    def post(id:list[int]):\n",
    "        for i,id_ in enumerate(id): todos.update({'priority':i}, id_)\n",
    "        return tuple(todos(order_by='priority'))\n",
    "    \n",
    "    @rt(\"/todos/{id}\")\n",
    "    def delete(id:int):\n",
    "        todos.delete(id)\n",
    "        return clr_details()\n",
    "    \n",
    "    @rt(\"/edit/{id}\")\n",
    "    def get(id:int):\n",
    "        res = Form(Group(Input(id=\"title\"), Button(\"Save\")),\n",
    "            Hidden(id=\"id\"), CheckboxX(id=\"done\", label='Done'),\n",
    "            Textarea(id=\"details\", name=\"details\", rows=10),\n",
    "            hx_put=\"/\", target_id=f'todo-{id}', id=\"edit\")\n",
    "        return fill_form(res, todos[id])\n",
    "    \n",
    "    @rt(\"/\")\n",
    "    def put(todo: Todo):\n",
    "        return todos.update(todo), clr_details()\n",
    "    \n",
    "    @rt(\"/\")\n",
    "    def post(todo:Todo):\n",
    "        new_inp = Input(id=\"new-title\", name=\"title\", placeholder=\"New Todo\", hx_swap_oob='true')\n",
    "        return todos.insert(todo), new_inp\n",
    "    \n",
    "    @rt(\"/todos/{id}\")\n",
    "    def get(id:int):\n",
    "        todo = todos[id]\n",
    "        btn = Button('delete', hx_delete=f'/todos/{todo.id}',\n",
    "                    target_id=f'todo-{todo.id}', hx_swap=\"outerHTML\")\n",
    "        return Div(H2(todo.title), Div(todo.details, cls=\"markdown\"), btn)\n"
   ]
  },
  {
   "cell_type": "code",
   "execution_count": null,
   "metadata": {},
   "outputs": [],
   "source": [
    "#| hide\n",
    "import nbdev; nbdev.nbdev_export()"
   ]
  },
  {
   "cell_type": "code",
   "execution_count": null,
   "metadata": {},
   "outputs": [],
   "source": []
  }
 ],
 "metadata": {
  "kernelspec": {
   "display_name": "python3",
   "language": "python",
   "name": "python3"
  }
 },
 "nbformat": 4,
 "nbformat_minor": 4
}

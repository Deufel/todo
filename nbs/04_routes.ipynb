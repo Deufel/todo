{
 "cells": [
  {
   "cell_type": "markdown",
   "metadata": {},
   "source": [
    "# routes\n",
    "\n",
    ">  Route handlers for the contacts application"
   ]
  },
  {
   "cell_type": "code",
   "execution_count": null,
   "metadata": {},
   "outputs": [],
   "source": [
    "#| default_exp routes"
   ]
  },
  {
   "cell_type": "code",
   "execution_count": null,
   "metadata": {},
   "outputs": [],
   "source": [
    "#| hide\n",
    "from nbdev.showdoc import *"
   ]
  },
  {
   "cell_type": "code",
   "execution_count": null,
   "metadata": {},
   "outputs": [],
   "source": [
    "#| export\n",
    "from fasthtml.common import *\n",
    "from fastcore.test import *\n",
    "from todo.models import *\n",
    "from todo.database import *\n",
    "from todo.components import *"
   ]
  },
  {
   "cell_type": "markdown",
   "metadata": {},
   "source": [
    "## Helper Functions"
   ]
  },
  {
   "cell_type": "code",
   "execution_count": null,
   "metadata": {},
   "outputs": [],
   "source": [
    "#| export\n",
    "def is_htmx_request(req):\n",
    "    \"Check if a request is coming from HTMX\"\n",
    "    return req and req.headers.get(\"HX-Request\") == \"true\""
   ]
  },
  {
   "cell_type": "code",
   "execution_count": null,
   "metadata": {},
   "outputs": [
    {
     "data": {
      "text/plain": [
       "\u001b[31mType:\u001b[39m           ContactDB\n",
       "\u001b[31mString form:\u001b[39m    <todo.database.ContactDB object>\n",
       "\u001b[31mFile:\u001b[39m           ~/github/todo/todo/database.py\n",
       "\u001b[31mDocstring:\u001b[39m      Simple in-memory database for contacts\n",
       "\u001b[31mInit docstring:\u001b[39m Initialize with optional contacts"
      ]
     },
     "metadata": {},
     "output_type": "display_data"
    }
   ],
   "source": [
    "default_db?"
   ]
  },
  {
   "cell_type": "markdown",
   "metadata": {},
   "source": [
    "## Route Handlers"
   ]
  },
  {
   "cell_type": "code",
   "execution_count": null,
   "metadata": {},
   "outputs": [],
   "source": [
    "#| export\n",
    "default_db = default_db\n",
    "\n",
    "def setup_routes(app, rt, db=default_db):\n",
    "    \"Set up all routes for the contacts application\"\n",
    "    \n",
    "    @rt(\"/contacts\")\n",
    "    def get_contacts(req=None):\n",
    "        \"Handle requests for the contacts list\"\n",
    "        query = req.query_params.get(\"q\", \"\") if req else \"\"\n",
    "        contacts = db.search(query)\n",
    "        content = contact_list(contacts, query)\n",
    "        \n",
    "        if is_htmx_request(req):\n",
    "            # If it's an HTMX request, just return the contacts list\n",
    "            return Div(id=\"contacts-list\")(\n",
    "                *[contact_card(contact) for contact in contacts]\n",
    "            ) if contacts else P(\"No contacts found.\")\n",
    "        \n",
    "        # Otherwise return the full page\n",
    "        return page_layout(content, \"All Contacts\")\n",
    "    \n",
    "    @rt(\"/contacts/favorites\")\n",
    "    def get_favorites(req=None):\n",
    "        \"Handle requests for favorite contacts\"\n",
    "        favorites = [c for c in db.get_all() if c.favorite]\n",
    "        content = contact_list(favorites)\n",
    "        \n",
    "        if is_htmx_request(req):\n",
    "            return Div(id=\"contacts-list\")(\n",
    "                *[contact_card(contact) for contact in favorites]\n",
    "            ) if favorites else P(\"No favorite contacts.\")\n",
    "        \n",
    "        return page_layout(content, \"Favorite Contacts\")\n",
    "    \n",
    "    @rt(\"/contacts/new\")\n",
    "    def new_contact(req=None):\n",
    "        \"Handle requests for the new contact form\"\n",
    "        content = contact_form()\n",
    "        \n",
    "        if is_htmx_request(req):\n",
    "            return content\n",
    "        \n",
    "        return page_layout(content, \"Add New Contact\")\n",
    "    \n",
    "    @rt(\"/contacts\")\n",
    "    def post(req=None, name: str = \"\", email: str = \"\", \n",
    "             phone: str = \"\", address: str = \"\", favorite: bool = False):\n",
    "        \"Handle creating a new contact\"\n",
    "        contact = Contact(0, name, email, phone, address, favorite)\n",
    "        db.add(contact)\n",
    "        \n",
    "        # Redirect to contact list\n",
    "        return RedirectResponse(\"/contacts\", status_code=303)\n",
    "    \n",
    "    @rt(\"/contacts/{contact_id:int}\")\n",
    "    def get_contact_detail(contact_id: int, req=None):\n",
    "        \"Handle requests for contact details\"\n",
    "        contact = db.get(contact_id)\n",
    "        if not contact:\n",
    "            return \"Contact not found\", 404\n",
    "        \n",
    "        content = contact_detail(contact)\n",
    "        \n",
    "        if is_htmx_request(req):\n",
    "            return content\n",
    "        \n",
    "        return page_layout(content, f\"Contact: {contact.name}\")\n",
    "    \n",
    "    @rt(\"/contacts/{contact_id:int}/edit\")\n",
    "    def edit_contact(contact_id: int, req=None):\n",
    "        \"Handle requests for the edit contact form\"\n",
    "        contact = db.get(contact_id)\n",
    "        if not contact:\n",
    "            return \"Contact not found\", 404\n",
    "        \n",
    "        content = contact_form(contact, f\"/contacts/{contact_id}\", \"put\")\n",
    "        \n",
    "        if is_htmx_request(req):\n",
    "            return content\n",
    "        \n",
    "        return page_layout(content, f\"Edit: {contact.name}\")\n",
    "    \n",
    "    @rt(\"/contacts/{contact_id:int}\")\n",
    "    def put(contact_id: int, name: str = \"\", email: str = \"\", \n",
    "            phone: str = \"\", address: str = \"\", favorite: bool = False):\n",
    "        \"Handle updating an existing contact\"\n",
    "        contact = Contact(contact_id, name, email, phone, address, favorite)\n",
    "        if not db.update(contact):\n",
    "            return \"Contact not found\", 404\n",
    "        \n",
    "        # Redirect to contact detail\n",
    "        return RedirectResponse(f\"/contacts/{contact_id}\", status_code=303)\n",
    "    \n",
    "    @rt(\"/contacts/{contact_id:int}\")\n",
    "    def delete(contact_id: int):\n",
    "        \"Handle deleting a contact\"\n",
    "        if not db.delete(contact_id):\n",
    "            return \"Contact not found\", 404\n",
    "        \n",
    "        # Return empty response with success status\n",
    "        return \"\"\n",
    "    \n",
    "    @rt(\"/\")\n",
    "    def home():\n",
    "        \"Redirect the home page to contacts list\"\n",
    "        return RedirectResponse(\"/contacts\")"
   ]
  },
  {
   "cell_type": "markdown",
   "metadata": {},
   "source": [
    "## Testing Route Handlers\n",
    "\n",
    "We can test our route handlers using a mock request object:"
   ]
  },
  {
   "cell_type": "code",
   "execution_count": null,
   "metadata": {},
   "outputs": [],
   "source": [
    "# export\n",
    "from fasthtml.common import *"
   ]
  },
  {
   "cell_type": "code",
   "execution_count": null,
   "metadata": {},
   "outputs": [],
   "source": [
    "# # Create a test app with a simple route\n",
    "# # Use FastHTML's app and router\n",
    "# app, rt = fast_app()\n",
    "# test_db = ContactDB(sample_contacts[:])\n",
    "\n",
    "# # Set up routes\n",
    "# setup_routes(app, rt, test_db)\n",
    "\n",
    "# # Create a test client using FastHTML's approach\n",
    "# from starlette.testclient import TestClient\n",
    "# client = TestClient(app)\n",
    "\n",
    "# # Test endpoints\n",
    "# response = client.get(\"/contacts\")\n",
    "# test_eq(response.status_code, 200)\n",
    "# assert \"John Doe\" in response.text"
   ]
  },
  {
   "cell_type": "code",
   "execution_count": null,
   "metadata": {},
   "outputs": [],
   "source": [
    "#| hide\n",
    "import nbdev; nbdev.nbdev_export()"
   ]
  },
  {
   "cell_type": "code",
   "execution_count": null,
   "metadata": {},
   "outputs": [],
   "source": []
  }
 ],
 "metadata": {
  "kernelspec": {
   "display_name": "python3",
   "language": "python",
   "name": "python3"
  }
 },
 "nbformat": 4,
 "nbformat_minor": 4
}
